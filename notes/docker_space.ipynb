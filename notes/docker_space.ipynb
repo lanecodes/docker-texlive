{
 "cells": [
  {
   "cell_type": "markdown",
   "metadata": {},
   "source": [
    "# Analysis of space used by `docker-texlive` container during build"
   ]
  },
  {
   "cell_type": "markdown",
   "metadata": {},
   "source": [
    "When building the `docker-texlive` image based on the `Dockerfile` [specified as of 6th April 2019](https://github.com/lanecodes/docker-texlive/tree/9d541ba302e90e2d3aaf9cffa8602b09ef8dbd89) I ran into problems caused by running out of disk space.\n",
    "\n",
    "To investigate I tracked the disk usage of the directory where Docker stores its data on my machine (`/media/docker`) using the Bash script given below. I found that adding an additional call to `apt-get clean` during the build process was sufficient to keep the size of the container below 10 Gb, with a maximum size of 9.3 Gb during the build process. The file `./data/docker-space-log` is the output of the below script when this additional call to `apt-get clean` after the installation of `texlive` in included in the `Dockerfile`."
   ]
  },
  {
   "cell_type": "markdown",
   "metadata": {},
   "source": [
    "```bash\n",
    "#! /usr/bin/env bash\n",
    "\n",
    "LOGFILE=~/docker-space.log\n",
    "echo \"time Used Avail Use%\" > $LOGFILE\n",
    "\n",
    "while true\n",
    " do\n",
    "     echo \\\n",
    "         $(date +%H:%M:%S) \\\n",
    "         $(df -h /media/docker \\\n",
    "               | awk '{if ($1 != \"Filesystem\") print $3 \" \" $4 \" \" $5}') 2>&1 \\\n",
    "         | tee -a $LOGFILE\n",
    "     sleep 10\n",
    "done\n",
    "```"
   ]
  },
  {
   "cell_type": "code",
   "execution_count": null,
   "metadata": {},
   "outputs": [],
   "source": [
    "from pathlib import Path\n",
    "\n",
    "import numpy as np\n",
    "import pandas as pd\n",
    "\n",
    "import matplotlib.pyplot as plt\n",
    "import matplotlib\n",
    "%matplotlib inline"
   ]
  },
  {
   "cell_type": "code",
   "execution_count": null,
   "metadata": {},
   "outputs": [],
   "source": [
    "DATA_DIR = Path('data')\n",
    "IMG_DIR = Path('../img')\n",
    "IMG_DIR.mkdir(exist_ok=True)"
   ]
  },
  {
   "cell_type": "code",
   "execution_count": null,
   "metadata": {},
   "outputs": [],
   "source": [
    "def unit_gb_value(value_str) -> str:\n",
    "    unit_str = value_str[-1]\n",
    "    if unit_str == '0':\n",
    "        return float(value_str)\n",
    "    elif unit_str == 'M':\n",
    "        return float(value_str[:-1]) / 1000\n",
    "    elif unit_str == 'G':\n",
    "        return float(value_str[:-1])\n",
    "    else:\n",
    "        raise ValueError(\"couldn't parse unit\")"
   ]
  },
  {
   "cell_type": "code",
   "execution_count": null,
   "metadata": {},
   "outputs": [],
   "source": [
    "df = (\n",
    "    pd.read_csv(DATA_DIR / 'docker-space.log', sep=' ')\n",
    "    .assign(time=lambda df: (\n",
    "        pd.to_datetime('20190409' + df['time'], format='%Y%m%d%H:%M:%S')))\n",
    "    .assign(avail_gb=lambda df: df['Avail'].apply(unit_gb_value))\n",
    "    .assign(used_gb=lambda df: df['Used'].apply(unit_gb_value))\n",
    "    .assign(used_pct=lambda df: df['Use%'].str[:-1].astype(int))\n",
    "    .set_index('time')\n",
    "    .drop(columns=['Used', 'Avail', 'Use%'])\n",
    ")"
   ]
  },
  {
   "cell_type": "code",
   "execution_count": null,
   "metadata": {},
   "outputs": [],
   "source": [
    "df[['avail_gb', 'used_gb']].plot()"
   ]
  },
  {
   "cell_type": "code",
   "execution_count": null,
   "metadata": {},
   "outputs": [],
   "source": [
    "container_size_s = (\n",
    "    df.reset_index()\n",
    "    .assign(build_time=(\n",
    "        lambda df: (df['time'].diff().fillna(0).cumsum() \n",
    "        / np.timedelta64(1, 's')).astype(int)))\n",
    "    .set_index('build_time')\n",
    "    .assign(container_size_gb=lambda df: df['used_gb'] - df['used_gb'].iloc[0])\n",
    "    ['container_size_gb']\n",
    ")"
   ]
  },
  {
   "cell_type": "code",
   "execution_count": null,
   "metadata": {},
   "outputs": [],
   "source": [
    "print('Maximum size of container:', container_size_s.max(), 'Gb')"
   ]
  },
  {
   "cell_type": "code",
   "execution_count": null,
   "metadata": {},
   "outputs": [],
   "source": [
    "matplotlib.rc('font', size=14)\n",
    "fig, ax = plt.subplots(figsize=(8, 5))\n",
    "annotation_c = 'dimgrey'\n",
    "container_size_s.plot(ax=ax)\n",
    "ax.spines['right'].set_visible(False)\n",
    "ax.spines['top'].set_visible(False)\n",
    "ax.set_xlabel('Build time [s]')\n",
    "ax.set_ylabel('Image size [Gb]')\n",
    "ax.annotate('1st\\napt-get clean', xy=(1450, 2), color=annotation_c)\n",
    "ax.axvline(x=2280, color=annotation_c, ls='--')\n",
    "ax.annotate('2nd\\napt-get clean', xy=(2950, 2), color=annotation_c)\n",
    "ax.axvline(x=2850, color=annotation_c, ls='--')\n",
    "plt.tight_layout()\n",
    "plt.savefig(IMG_DIR / 'image_size_during_build.png')"
   ]
  }
 ],
 "metadata": {
  "kernelspec": {
   "display_name": "Python 3",
   "language": "python",
   "name": "python3"
  },
  "language_info": {
   "codemirror_mode": {
    "name": "ipython",
    "version": 3
   },
   "file_extension": ".py",
   "mimetype": "text/x-python",
   "name": "python",
   "nbconvert_exporter": "python",
   "pygments_lexer": "ipython3",
   "version": "3.7.3"
  }
 },
 "nbformat": 4,
 "nbformat_minor": 4
}
